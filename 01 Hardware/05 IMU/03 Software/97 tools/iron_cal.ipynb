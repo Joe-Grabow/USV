{
 "cells": [
  {
   "cell_type": "markdown",
   "id": "6dcb5506-f6cb-4fea-a1fb-efc346decd7a",
   "metadata": {},
   "source": [
    "# USV - Unmanned Surface Vehicle \n",
    "## Magnetometer - Kalibrierung\n",
    "### Prof. J. Grabow\n",
    "\n",
    "Das IMU-Magnetometer des USV misst das Erdmagnetfeld in der Einheit Gauss. In Deutschland hat das Erdmagnetfeld ca. eine Feldstärke von 0,48 Gauss. Durch eine Anordnung von drei orthogonal angeordneten Sensoren in der IMU (AK8963) wird ein digitaler Kompass aufgebaut, welcher den Gierwinkel im erdfesten Koordinatensystem erzeugt.\n",
    "\n",
    "## Fehler des Magnetometers\n",
    "Wie jeder Sensor weisen auch Magnetometer Fehler auf. Die dabei auftretenden magnetischen Abweichungen (Störfelder), welche den wahren Messwert überlagern, sind sehr groß. Die wichtigsten dieser Störfelder sind Überlagerungen des geomagnetischen Feldes durch Hard- und Soft-Iron Effekte.\n",
    "\n",
    "### Hard-Iron-Effekte \n",
    "Hard-Iron-Effekte entsteht durch statische Magnetfelder wie das Erdmagnetfeld, oder Effekte die vom\n",
    "USV selbst ausgehen. Das können ferromagnetische Metalle oder Magnete von Antriebsmotoren sein. Solange die Sensorlage nicht verändert wird, bleiben diese Störungen des USV konstant. Auf den Sensorachsen zeigt sich dieser Effekt als konstanter positiver oder negativer Offset.\n",
    "\n",
    "### Soft-Iron-Effekte\n",
    "Soft-Iron-Effekte entsteht durch nichtmagnetische Metalle, die jedoch das Erdmagnetfeld stören können. Sie verzerren das örtliche Magnetfeld und führen so zu Fehlern."
   ]
  },
  {
   "cell_type": "code",
   "execution_count": 13,
   "id": "2867fe47-7c83-463d-8111-f36899d5f414",
   "metadata": {},
   "outputs": [],
   "source": [
    "# -*- coding: utf-8 -*-\n",
    "\"\"\"\n",
    "Created on Wed Nov  8 13:22:12 2023\n",
    "\n",
    "Program history\n",
    "08.11.2023    V. 1.0    Start\n",
    "\n",
    "@author: Prof. Jörg Grabow (grabow@amesys.de)\n",
    "\"\"\"\n",
    "__version__ = '1.0'\n",
    "__author__ = 'Joe Grabow'\n",
    "\n",
    "import matplotlib.pyplot as plt\n",
    "import pandas as pd\n",
    "\n",
    "# load CSV-Datei \n",
    "data = pd.read_csv('data.csv', header=None)\n",
    "\n",
    "# Extrahieren der Spalten x, y und z\n",
    "x = data[0]\n",
    "y = data[1]\n",
    "z = data[2]\n",
    "\n",
    "# Diagramm xy\n",
    "plt.figure(figsize=(8, 6))\n",
    "plt.scatter(x, y, color='blue', label='xy')\n",
    "plt.xlabel('x')\n",
    "plt.ylabel('y')\n",
    "plt.legend()\n",
    "plt.title('Diagramm xy')\n",
    "plt.show()\n",
    "\n",
    "# Diagramm xz\n",
    "plt.figure(figsize=(8, 6))\n",
    "plt.scatter(x, z, color='red', label='xz')\n",
    "plt.xlabel('x')\n",
    "plt.ylabel('z')\n",
    "plt.legend()\n",
    "plt.title('Diagramm xz')\n",
    "plt.show()\n",
    "\n",
    "# Diagramm yz\n",
    "plt.figure(figsize=(8, 6))\n",
    "plt.scatter(y, z, color='green', label='yz')\n",
    "plt.xlabel('y')\n",
    "plt.ylabel('z')\n",
    "plt.legend()\n",
    "plt.title('Diagramm yz')\n",
    "plt.show()"
   ]
  },
  {
   "cell_type": "markdown",
   "id": "884b4b44-944a-48b9-8ce6-34ddf8a6134d",
   "metadata": {},
   "source": [
    "### Korrektur der Hard-Iron-Effekte \n",
    "\n",
    "Die Fehler durch die Hard-Irion-Effekte sind sehr groß aber jedoch auch einfachsten zu korrigieren. Das Verfahren besteht darin, eine Reihe von Magnetometerdaten aufzuzeichnen, während der Sensor langsam in jeder Ebene um 360 Grad gedreht wird. Dabei wird jeweils das Feld in den sechs Hauptrichtungen gemessen wird: +/- Mx, +/- My, +/- Mz. Anschließend werden die jeweiligen Minimal-/Maximalwerte entlang der drei Achsen bestimmt. Wird der Mittelwert von den nachfolgenden Daten subtrahiert, sind die zukünftigen Messdaten wieder auf den Ursprung zu zentriert."
   ]
  },
  {
   "cell_type": "code",
   "execution_count": 14,
   "id": "555eef3d-9824-4377-ad44-5a50e22c31f3",
   "metadata": {},
   "outputs": [],
   "source": [
    "# Hard iron distortion\n",
    "offset_x = (max(x) + min(x)) / 2\n",
    "offset_y = (max(y) + min(y)) / 2\n",
    "offset_z = (max(z) + min(z)) / 2\n",
    "\n",
    "corrected_x = x - offset_x\n",
    "corrected_y = y - offset_y\n",
    "corrected_z = z - offset_z"
   ]
  },
  {
   "cell_type": "markdown",
   "id": "28c4d1e6-5170-4ad3-9860-ea28fe2a9371",
   "metadata": {},
   "source": [
    "### Offsetdaten der Hard-Iron-Korrektur"
   ]
  },
  {
   "cell_type": "code",
   "execution_count": 15,
   "id": "9f50c549-daa9-4c16-9b94-dc74b5ca36b2",
   "metadata": {},
   "outputs": [
    {
     "name": "stdout",
     "output_type": "stream",
     "text": [
      "offset x:  18.933985\n",
      "offset y:  49.1783215\n",
      "offset z:  -34.304294999999996\n"
     ]
    }
   ],
   "source": [
    "\n",
    "print(\"offset x: \", offset_x)\n",
    "print(\"offset y: \", offset_y)\n",
    "print(\"offset z: \", offset_z)"
   ]
  },
  {
   "cell_type": "markdown",
   "id": "cfca62a2-9d28-4a21-bd8f-ff071a859184",
   "metadata": {},
   "source": [
    "### Korrektur der Soft-Iron-Effekte\n",
    "\n",
    "Um diese Korrektur durchzuführen, müssen von der jeweiligen Messfläche (Ellipse) die Hauptachsen bestimmt werden. Üblicherweise ist dabei eine 3x3 Korrekturmatrix notwendig. Bei dem hier angewendeten Verfahren wird nur eine orthogonale Neuskalierung einer diagonalisierten 3x3 Kalibrierungsmatrix verwendet. Der dabei auftretende Fehler gegenüber der vollbesetzen 3x3 Matrix ist jedoch gering und erlaubt eine geringere Rechenzeit. \n"
   ]
  },
  {
   "cell_type": "code",
   "execution_count": 16,
   "id": "1ea51c81-8867-456e-8859-22e8bb8fe21b",
   "metadata": {},
   "outputs": [],
   "source": [
    "# Soft iron distortion\n",
    "avg_delta_x = (max(x) - min(x)) / 2\n",
    "avg_delta_y = (max(y) - min(y)) / 2\n",
    "avg_delta_z = (max(z) - min(z)) / 2\n",
    "\n",
    "avg_delta = (avg_delta_x + avg_delta_y + avg_delta_z) / 3\n",
    "\n",
    "scale_x = avg_delta / avg_delta_x\n",
    "scale_y = avg_delta / avg_delta_y\n",
    "scale_z = avg_delta / avg_delta_z"
   ]
  },
  {
   "cell_type": "markdown",
   "id": "0a2d9543-4aeb-4834-9880-5626696ff3ee",
   "metadata": {},
   "source": [
    "### Skalierungsfaktor der Soft-Iron-Korrektur"
   ]
  },
  {
   "cell_type": "code",
   "execution_count": 17,
   "id": "77bb0056-4104-4430-a1f7-108867d34199",
   "metadata": {},
   "outputs": [
    {
     "name": "stdout",
     "output_type": "stream",
     "text": [
      "scale x:  1.0107710192152866\n",
      "scale y:  1.047377406882184\n",
      "scale z:  0.9470678452641178\n"
     ]
    }
   ],
   "source": [
    "print(\"scale x: \", scale_x)\n",
    "print(\"scale y: \", scale_y)\n",
    "print(\"scale z: \", scale_z)"
   ]
  },
  {
   "cell_type": "markdown",
   "id": "7b6060fd-7fa5-4a81-9116-60e1969e8f17",
   "metadata": {},
   "source": [
    "### Korrektur der Messdaten"
   ]
  },
  {
   "cell_type": "code",
   "execution_count": 18,
   "id": "e247c305-d8df-43f6-a777-6b252b590eb0",
   "metadata": {},
   "outputs": [],
   "source": [
    "corrected_x = (x - offset_x) * scale_x\n",
    "corrected_y = (y - offset_y) * scale_y\n",
    "corrected_z = (z - offset_z) * scale_z\n",
    "\n",
    "# Diagramm scale xy\n",
    "plt.figure(figsize=(8, 8))\n",
    "plt.scatter(corrected_x, corrected_y, color='blue', label='xy')\n",
    "plt.xlabel('x')\n",
    "plt.ylabel('y')\n",
    "plt.legend()\n",
    "plt.title('Diagramm scale xy')\n",
    "plt.show()\n",
    "\n",
    "# Diagramm scale xz\n",
    "plt.figure(figsize=(8, 8))\n",
    "plt.scatter(corrected_x, corrected_z, color='red', label='xz')\n",
    "plt.xlabel('x')\n",
    "plt.ylabel('z')\n",
    "plt.legend()\n",
    "plt.title('Diagramm scale xz')\n",
    "plt.show()\n",
    "\n",
    "# Diagramm scale yz\n",
    "plt.figure(figsize=(8, 8))\n",
    "plt.scatter(corrected_y, corrected_z, color='green', label='yz')\n",
    "plt.xlabel('y')\n",
    "plt.ylabel('z')\n",
    "plt.legend()\n",
    "plt.title('Diagramm scale yz')\n",
    "plt.show()"
   ]
  }
 ],
 "metadata": {
  "kernelspec": {
   "display_name": "Python 3 (Spyder)",
   "language": "python3",
   "name": "python3"
  },
  "language_info": {
   "codemirror_mode": {
    "name": "ipython",
    "version": 3
   },
   "file_extension": ".py",
   "mimetype": "text/x-python",
   "name": "python",
   "nbconvert_exporter": "python",
   "pygments_lexer": "ipython3",
   "version": "3.11.4"
  }
 },
 "nbformat": 4,
 "nbformat_minor": 5
}
