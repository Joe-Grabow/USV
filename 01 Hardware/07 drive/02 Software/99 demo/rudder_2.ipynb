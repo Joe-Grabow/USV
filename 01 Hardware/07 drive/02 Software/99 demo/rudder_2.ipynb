{
 "cells": [
  {
   "cell_type": "code",
   "execution_count": 2,
   "id": "c83e4bd0-2f32-4d00-9ecd-16f8e45efe8f",
   "metadata": {},
   "outputs": [
    {
     "data": {
      "application/vnd.jupyter.widget-view+json": {
       "model_id": "22b7831f6d104a2b88fcdd0fb39160e9",
       "version_major": 2,
       "version_minor": 0
      },
      "text/plain": [
       "VBox(children=(FloatSlider(value=0.0, description='Trust:', max=1.0, min=-1.0, step=0.01), Output()))"
      ]
     },
     "metadata": {},
     "output_type": "display_data"
    }
   ],
   "source": [
    "import numpy as np\n",
    "import matplotlib.pyplot as plt\n",
    "import ipywidgets as widgets\n",
    "from IPython.display import display\n",
    "\n",
    "# Hysterese\n",
    "hysterese = 0.1\n",
    "\n",
    "# Funktion Drive_A(Rudder, Trust)\n",
    "def Drive_A(Rudder, Trust):\n",
    "    if abs(Trust) <= hysterese:  # Trust ist nahe 0\n",
    "        return -Rudder\n",
    "    elif Rudder > 0:\n",
    "        return (-2*Rudder + 1)*Trust\n",
    "    else:\n",
    "        return Trust\n",
    "\n",
    "# Funktion Drive_B(Rudder, Trust)\n",
    "def Drive_B(Rudder, Trust):\n",
    "    if abs(Trust) <= hysterese:  # Trust ist nahe 0\n",
    "        return Rudder\n",
    "    elif Rudder < 0:\n",
    "        return (2*Rudder + 1)*Trust\n",
    "    else:\n",
    "        return Trust\n",
    "\n",
    "# Schieberegler für Trust\n",
    "trust_slider = widgets.FloatSlider(value=0, min=-1, max=1, step=0.01, description='Trust:')\n",
    "\n",
    "# Erstellen der Rudder-Werte für die Diagramme\n",
    "Rudder_values_graph = np.linspace(-1, 1, 400)\n",
    "\n",
    "# Ausgabe für die Plots\n",
    "output_plot = widgets.Output()\n",
    "\n",
    "def plot_drive_functions(trust):\n",
    "    # Werte für Drive_A und Drive_B berechnen\n",
    "    Drive_A_values = [Drive_A(Rudder, trust) for Rudder in Rudder_values_graph]\n",
    "    Drive_B_values = [Drive_B(Rudder, trust) for Rudder in Rudder_values_graph]\n",
    "    \n",
    "    # Plots zeichnen\n",
    "    with output_plot:\n",
    "        output_plot.clear_output(wait=True)\n",
    "        plt.figure(figsize=(10, 5))\n",
    "        \n",
    "        # Plot für Drive_A(Rudder, Trust)\n",
    "        plt.subplot(1, 2, 1)\n",
    "        plt.plot(Rudder_values_graph, Drive_A_values, label=f'Trust = {trust:.2f}')\n",
    "        plt.title('Drive_A(Rudder, Trust) über Rudder')\n",
    "        plt.xlabel('Rudder')\n",
    "        plt.ylabel('Drive_A(Rudder, Trust)')\n",
    "        plt.legend()\n",
    "        \n",
    "        # Plot für Drive_B(Rudder, Trust)\n",
    "        plt.subplot(1, 2, 2)\n",
    "        plt.plot(Rudder_values_graph, Drive_B_values, label=f'Trust = {trust:.2f}')\n",
    "        plt.title('Drive_B(Rudder, Trust) über Rudder')\n",
    "        plt.xlabel('Rudder')\n",
    "        plt.ylabel('Drive_B(Rudder, Trust)')\n",
    "        plt.legend()\n",
    "        \n",
    "        plt.tight_layout()\n",
    "        plt.show()\n",
    "\n",
    "# Funktion zum Aktualisieren der Plots bei Änderungen des Schiebereglers\n",
    "def update_plot(change):\n",
    "    plot_drive_functions(trust_slider.value)\n",
    "\n",
    "# Beobachter für Schieberegler\n",
    "trust_slider.observe(update_plot, 'value')\n",
    "\n",
    "# Initiales Plotten\n",
    "plot_drive_functions(trust_slider.value)\n",
    "\n",
    "# Anzeige der Schieberegler und des Plots\n",
    "display(widgets.VBox([trust_slider, output_plot]))\n"
   ]
  },
  {
   "cell_type": "code",
   "execution_count": null,
   "id": "79ad0fc8-c7f3-4824-b254-5a259ace5a30",
   "metadata": {},
   "outputs": [],
   "source": []
  }
 ],
 "metadata": {
  "kernelspec": {
   "display_name": "Python 3 (ipykernel)",
   "language": "python",
   "name": "python3"
  },
  "language_info": {
   "codemirror_mode": {
    "name": "ipython",
    "version": 3
   },
   "file_extension": ".py",
   "mimetype": "text/x-python",
   "name": "python",
   "nbconvert_exporter": "python",
   "pygments_lexer": "ipython3",
   "version": "3.11.8"
  }
 },
 "nbformat": 4,
 "nbformat_minor": 5
}
