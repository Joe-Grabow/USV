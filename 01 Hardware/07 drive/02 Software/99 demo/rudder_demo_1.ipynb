{
 "cells": [
  {
   "cell_type": "code",
   "execution_count": 4,
   "id": "a6a0a5d8-a5b5-469f-85f9-bf329c7587cc",
   "metadata": {},
   "outputs": [
    {
     "data": {
      "application/vnd.jupyter.widget-view+json": {
       "model_id": "2df15728b82948868092b68e4d339f80",
       "version_major": 2,
       "version_minor": 0
      },
      "text/plain": [
       "VBox(children=(FloatSlider(value=0.0, description='Rudder:', max=1.0, min=-1.0, step=0.01), FloatSlider(value=…"
      ]
     },
     "metadata": {},
     "output_type": "display_data"
    }
   ],
   "source": [
    "import ipywidgets as widgets\n",
    "from IPython.display import display\n",
    "\n",
    "# Hysterese\n",
    "hysterese = 0.1\n",
    "\n",
    "# Funktion Drive_A(Rudder, Trust)\n",
    "def Drive_A(Rudder, Trust):\n",
    "    if abs(Trust) <= hysterese:  # Trust ist nahe 0\n",
    "        return -Rudder\n",
    "    elif Rudder > 0:\n",
    "        return (-2*Rudder + 1)*Trust\n",
    "    else:\n",
    "        return Trust\n",
    "\n",
    "# Funktion Drive_B(Rudder, Trust)\n",
    "def Drive_B(Rudder, Trust):\n",
    "    if abs(Trust) <= hysterese:  # Trust ist nahe 0\n",
    "        return Rudder\n",
    "    elif Rudder < 0:\n",
    "        return (2*Rudder + 1)*Trust\n",
    "    else:\n",
    "        return Trust\n",
    "\n",
    "# Schieberegler für Rudder und Trust\n",
    "rudder_slider = widgets.FloatSlider(value=0, min=-1, max=1, step=0.01, description='Rudder:')\n",
    "trust_slider = widgets.FloatSlider(value=0, min=-1, max=1, step=0.01, description='Trust:')\n",
    "\n",
    "# Interaktive Ausgabe für Drive_A und Drive_B\n",
    "output_A = widgets.Output()\n",
    "output_B = widgets.Output()\n",
    "\n",
    "def update_drive_A(change):\n",
    "    with output_A:\n",
    "        output_A.clear_output()\n",
    "        rudder = rudder_slider.value\n",
    "        trust = trust_slider.value\n",
    "        drive_a_value = Drive_A(rudder, trust)\n",
    "        print(f\"Drive_A({rudder:.2f}, {trust:.2f}) = {drive_a_value:.2f}\")\n",
    "\n",
    "def update_drive_B(change):\n",
    "    with output_B:\n",
    "        output_B.clear_output()\n",
    "        rudder = rudder_slider.value\n",
    "        trust = trust_slider.value\n",
    "        drive_b_value = Drive_B(rudder, trust)\n",
    "        print(f\"Drive_B({rudder:.2f}, {trust:.2f}) = {drive_b_value:.2f}\")\n",
    "\n",
    "# Beobachter für Schieberegler\n",
    "rudder_slider.observe(update_drive_A, 'value')\n",
    "trust_slider.observe(update_drive_A, 'value')\n",
    "rudder_slider.observe(update_drive_B, 'value')\n",
    "trust_slider.observe(update_drive_B, 'value')\n",
    "\n",
    "# Initiales Update der Funktionen\n",
    "update_drive_A(None)\n",
    "update_drive_B(None)\n",
    "\n",
    "# Anzeige der Schieberegler und der Ausgaben\n",
    "display(widgets.VBox([rudder_slider, trust_slider, output_A, output_B]))"
   ]
  },
  {
   "cell_type": "code",
   "execution_count": null,
   "id": "a7fe43ad-3a63-433b-a404-107a53432820",
   "metadata": {},
   "outputs": [],
   "source": []
  }
 ],
 "metadata": {
  "kernelspec": {
   "display_name": "Python 3 (ipykernel)",
   "language": "python",
   "name": "python3"
  },
  "language_info": {
   "codemirror_mode": {
    "name": "ipython",
    "version": 3
   },
   "file_extension": ".py",
   "mimetype": "text/x-python",
   "name": "python",
   "nbconvert_exporter": "python",
   "pygments_lexer": "ipython3",
   "version": "3.11.8"
  }
 },
 "nbformat": 4,
 "nbformat_minor": 5
}
